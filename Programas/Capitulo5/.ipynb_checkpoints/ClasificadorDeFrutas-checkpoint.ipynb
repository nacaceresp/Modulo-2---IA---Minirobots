{
 "cells": [
  {
   "cell_type": "markdown",
   "metadata": {},
   "source": [
    "3. Tome un conjunto de manzanas, un conjunto de peras, un conjunto de bananos y\n",
    "un conjunto de fresas. Desarrolle un sistema clasificador de estas cuatro frutas, de\n",
    "manera que después de entrenar la red se le den imágenes de frutas de internet y\n",
    "el sistema las clasifique. Obténgalos de: https://www.kaggle.com/moltean/fruits\n"
   ]
  },
  {
   "cell_type": "code",
   "execution_count": 5,
   "metadata": {},
   "outputs": [
    {
     "ename": "PermissionError",
     "evalue": "[Errno 13] Permission denied: 'frutas_dataset1\\\\manzanas\\\\subcarpeta1'",
     "output_type": "error",
     "traceback": [
      "\u001b[1;31m---------------------------------------------------------------------------\u001b[0m",
      "\u001b[1;31mPermissionError\u001b[0m                           Traceback (most recent call last)",
      "Cell \u001b[1;32mIn[5], line 27\u001b[0m\n\u001b[0;32m     25\u001b[0m \u001b[39mfor\u001b[39;00m archivo \u001b[39min\u001b[39;00m archivos:\n\u001b[0;32m     26\u001b[0m     ruta_completa \u001b[39m=\u001b[39m os\u001b[39m.\u001b[39mpath\u001b[39m.\u001b[39mjoin(carpeta_fruta, archivo)\n\u001b[1;32m---> 27\u001b[0m     imagen \u001b[39m=\u001b[39m Image\u001b[39m.\u001b[39;49mopen(ruta_completa)\n\u001b[0;32m     29\u001b[0m     \u001b[39m# Redimensiona la imagen al tamaño deseado\u001b[39;00m\n\u001b[0;32m     30\u001b[0m     imagen_redimensionada \u001b[39m=\u001b[39m imagen\u001b[39m.\u001b[39mresize(tamaño_imagen)\n",
      "File \u001b[1;32mc:\\Python310\\lib\\site-packages\\PIL\\Image.py:3236\u001b[0m, in \u001b[0;36mopen\u001b[1;34m(fp, mode, formats)\u001b[0m\n\u001b[0;32m   3233\u001b[0m     filename \u001b[39m=\u001b[39m fp\n\u001b[0;32m   3235\u001b[0m \u001b[39mif\u001b[39;00m filename:\n\u001b[1;32m-> 3236\u001b[0m     fp \u001b[39m=\u001b[39m builtins\u001b[39m.\u001b[39;49mopen(filename, \u001b[39m\"\u001b[39;49m\u001b[39mrb\u001b[39;49m\u001b[39m\"\u001b[39;49m)\n\u001b[0;32m   3237\u001b[0m     exclusive_fp \u001b[39m=\u001b[39m \u001b[39mTrue\u001b[39;00m\n\u001b[0;32m   3239\u001b[0m \u001b[39mtry\u001b[39;00m:\n",
      "\u001b[1;31mPermissionError\u001b[0m: [Errno 13] Permission denied: 'frutas_dataset1\\\\manzanas\\\\subcarpeta1'"
     ]
    }
   ],
   "source": [
    "import numpy as np\n",
    "from PIL import Image\n",
    "import os\n",
    "import random\n",
    "from sklearn.model_selection import train_test_split\n",
    "\n",
    "# Directorio principal donde se encuentran las imágenes\n",
    "directorio_principal = \"frutas_dataset1\"\n",
    "\n",
    "# Lista de las frutas\n",
    "frutas = [\"manzanas\", \"peras\", \"bananos\", \"fresas\"]\n",
    "\n",
    "# Tamaño deseado para las imágenes\n",
    "tamaño_imagen = (100, 100)  # \n",
    "\n",
    "# Lista para almacenar las imágenes y sus etiquetas\n",
    "imagenes = []\n",
    "etiquetas = []\n",
    "\n",
    "# Recorre cada fruta y carga las imágenes etiquetadas\n",
    "for etiqueta, fruta in enumerate(frutas):\n",
    "    carpeta_fruta = os.path.join(directorio_principal, fruta)\n",
    "    archivos = os.listdir(carpeta_fruta)\n",
    "    \n",
    "    for archivo in archivos:\n",
    "        ruta_completa = os.path.join(carpeta_fruta, archivo)\n",
    "        imagen = Image.open(ruta_completa)\n",
    "        \n",
    "        # Redimensiona la imagen al tamaño deseado\n",
    "        imagen_redimensionada = imagen.resize(tamaño_imagen)\n",
    "        \n",
    "        # Convierte la imagen en un array de píxeles y normalízala\n",
    "        imagen_array = np.array(imagen_redimensionada) / 100.0\n",
    "        \n",
    "        # Agrega la imagen y su etiqueta a las listas\n",
    "        imagenes.append(imagen_array)\n",
    "        etiquetas.append(etiqueta)\n",
    "\n",
    "# Convierte las listas en arrays numpy\n",
    "imagenes = np.array(imagenes)\n",
    "etiquetas = np.array(etiquetas)\n",
    "\n",
    "# Divide el conjunto de datos en entrenamiento y validación\n",
    "imagenes_entrenamiento, imagenes_validacion, etiquetas_entrenamiento, etiquetas_validacion = train_test_split(\n",
    "    imagenes, etiquetas, test_size=0.2, random_state=42)\n",
    "\n",
    "# Divide el conjunto de validación en validación y prueba\n",
    "imagenes_validacion, imagenes_prueba, etiquetas_validacion, etiquetas_prueba = train_test_split(\n",
    "    imagenes_validacion, etiquetas_validacion, test_size=0.5, random_state=42)\n",
    "\n",
    "# Imprime la forma de los conjuntos de datos resultantes\n",
    "print(\"Forma de los conjuntos de datos:\")\n",
    "print(\"Entrenamiento:\", imagenes_entrenamiento.shape, etiquetas_entrenamiento.shape)\n",
    "print(\"Validación:\", imagenes_validacion.shape, etiquetas_validacion.shape)\n",
    "print(\"Prueba:\", imagenes_prueba.shape, etiquetas_prueba.shape)\n"
   ]
  }
 ],
 "metadata": {
  "kernelspec": {
   "display_name": "Python 3 (ipykernel)",
   "language": "python",
   "name": "python3"
  },
  "language_info": {
   "codemirror_mode": {
    "name": "ipython",
    "version": 3
   },
   "file_extension": ".py",
   "mimetype": "text/x-python",
   "name": "python",
   "nbconvert_exporter": "python",
   "pygments_lexer": "ipython3",
   "version": "3.10.7"
  }
 },
 "nbformat": 4,
 "nbformat_minor": 2
}
