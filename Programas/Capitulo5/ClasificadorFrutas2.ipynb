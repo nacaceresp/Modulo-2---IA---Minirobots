{
 "cells": [
  {
   "cell_type": "code",
   "execution_count": 1,
   "id": "d23bfc65",
   "metadata": {},
   "outputs": [],
   "source": [
    "import os\n",
    "import cv2"
   ]
  },
  {
   "cell_type": "code",
   "execution_count": 2,
   "id": "d93c3af4",
   "metadata": {},
   "outputs": [
    {
     "name": "stdout",
     "output_type": "stream",
     "text": [
      "Número de imágenes de bananos cargadas: 490\n"
     ]
    }
   ],
   "source": [
    "# Directorio donde se encuentran las imágenes de bananos\n",
    "banano_dir = 'frutas_dataset/bananos/subcarpeta1'\n",
    "\n",
    "# Lista para almacenar las imágenes de bananos\n",
    "banano_images = []\n",
    "\n",
    "# Recorrer los archivos en el directorio\n",
    "for filename in os.listdir(banano_dir):\n",
    "    # Comprobar si el archivo es una imagen\n",
    "    if filename.endswith('.jpg') or filename.endswith('.png'):\n",
    "        # Ruta completa del archivo de imagen\n",
    "        img_path = os.path.join(banano_dir, filename)\n",
    "        # Leer la imagen utilizando OpenCV\n",
    "        img = cv2.imread(img_path)\n",
    "        # Agregar la imagen a la lista\n",
    "        banano_images.append(img)\n",
    "\n",
    "# Imprimir el número de imágenes de bananos cargadas\n",
    "print(\"Número de imágenes de bananos cargadas:\", len(banano_images))\n"
   ]
  },
  {
   "cell_type": "code",
   "execution_count": null,
   "id": "dd4dc785",
   "metadata": {},
   "outputs": [],
   "source": []
  }
 ],
 "metadata": {
  "kernelspec": {
   "display_name": "Python 3 (ipykernel)",
   "language": "python",
   "name": "python3"
  },
  "language_info": {
   "codemirror_mode": {
    "name": "ipython",
    "version": 3
   },
   "file_extension": ".py",
   "mimetype": "text/x-python",
   "name": "python",
   "nbconvert_exporter": "python",
   "pygments_lexer": "ipython3",
   "version": "3.10.7"
  }
 },
 "nbformat": 4,
 "nbformat_minor": 5
}
