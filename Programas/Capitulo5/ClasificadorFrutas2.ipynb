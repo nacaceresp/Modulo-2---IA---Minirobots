{
 "cells": [
  {
   "cell_type": "code",
   "execution_count": 24,
   "id": "2edb69e4",
   "metadata": {},
   "outputs": [],
   "source": [
    "import os\n",
    "import cv2\n",
    "\n",
    "from sklearn.model_selection import train_test_split\n",
    "\n",
    "import numpy as np\n",
    "\n",
    "from PIL import Image\n",
    "\n",
    "import tensorflow as tf\n",
    "from tensorflow.keras.models import Sequential\n",
    "from tensorflow.keras.layers import Conv2D, MaxPooling2D, Flatten, Dense\n"
   ]
  },
  {
   "cell_type": "code",
   "execution_count": 25,
   "id": "a5673376",
   "metadata": {},
   "outputs": [
    {
     "name": "stdout",
     "output_type": "stream",
     "text": [
      "Número de imágenes de bananos cargadas: 490\n"
     ]
    }
   ],
   "source": [
    "# Cargar el conjunto de datos de manzanas, peras, bananos y fresas\n",
    "\n",
    "# Directorio donde se encuentran las imágenes de bananos\n",
    "banano_dir = 'frutas_dataset/bananos/subcarpeta1'\n",
    "\n",
    "# Lista para almacenar las imágenes de bananos\n",
    "banano_images = []\n",
    "\n",
    "# Recorrer los archivos en el directorio\n",
    "for filename in os.listdir(banano_dir):\n",
    "    # Comprobar si el archivo es una imagen\n",
    "    if filename.endswith('.jpg') or filename.endswith('.png'):\n",
    "        # Ruta completa del archivo de imagen\n",
    "        img_path = os.path.join(banano_dir, filename)\n",
    "        # Leer la imagen utilizando OpenCV\n",
    "        img = cv2.imread(img_path)\n",
    "        # Agregar la imagen a la lista\n",
    "        banano_images.append(img)\n",
    "\n",
    "# Imprimir el número de imágenes de bananos cargadas\n",
    "print(\"Número de imágenes de bananos cargadas:\", len(banano_images))\n"
   ]
  },
  {
   "cell_type": "code",
   "execution_count": 26,
   "id": "76d14980",
   "metadata": {},
   "outputs": [
    {
     "name": "stdout",
     "output_type": "stream",
     "text": [
      "Número de imágenes de bananos en el conjunto de entrenamiento: 392\n",
      "Número de imágenes de bananos en el conjunto de prueba: 98\n"
     ]
    }
   ],
   "source": [
    "# Dividir los datos en conjuntos de entrenamiento y prueba\n",
    "train_images, test_images = train_test_split(banano_images, test_size=0.2, random_state=42)\n",
    "\n",
    "# Imprimir el número de imágenes en cada conjunto\n",
    "print(\"Número de imágenes de bananos en el conjunto de entrenamiento:\", len(train_images))\n",
    "print(\"Número de imágenes de bananos en el conjunto de prueba:\", len(test_images))"
   ]
  },
  {
   "cell_type": "code",
   "execution_count": 27,
   "id": "d3fe084e",
   "metadata": {},
   "outputs": [
    {
     "name": "stdout",
     "output_type": "stream",
     "text": [
      "Conjunto de entrenamiento: 392\n",
      "Conjunto de prueba: 98\n"
     ]
    }
   ],
   "source": [
    "# Función para preprocesar una imagen de banano\n",
    "def preprocess_image(image):\n",
    "    # Redimensionar la imagen a un tamaño específico\n",
    "    resized_image = image.resize((224, 224))\n",
    "    \n",
    "    # Normalizar los valores de píxel entre 0 y 1\n",
    "    normalized_image = np.array(resized_image) / 255.0\n",
    "    \n",
    "    # Cambiar el orden de los canales de BGR a RGB (si es necesario)\n",
    "    rgb_image = normalized_image[:, :, ::-1]\n",
    "    \n",
    "    return rgb_image\n",
    "\n",
    "# Preprocesar las imágenes de bananos en el conjunto de entrenamiento\n",
    "preprocessed_train_images = []\n",
    "for image in train_images:\n",
    "    pil_image = Image.fromarray(image)\n",
    "    preprocessed_image = preprocess_image(pil_image)\n",
    "    preprocessed_train_images.append(preprocessed_image)\n",
    "\n",
    "# Preprocesar las imágenes de bananos en el conjunto de prueba\n",
    "preprocessed_test_images = []\n",
    "for image in test_images:\n",
    "    pil_image = Image.fromarray(image)\n",
    "    preprocessed_image = preprocess_image(pil_image)\n",
    "    preprocessed_test_images.append(preprocessed_image)\n",
    "    \n",
    "print(\"Conjunto de entrenamiento:\", len(preprocessed_train_images))\n",
    "print(\"Conjunto de prueba:\", len(preprocessed_test_images))"
   ]
  },
  {
   "cell_type": "code",
   "execution_count": 28,
   "id": "6cd0df77",
   "metadata": {},
   "outputs": [
    {
     "name": "stdout",
     "output_type": "stream",
     "text": [
      "Model: \"sequential\"\n",
      "_________________________________________________________________\n",
      " Layer (type)                Output Shape              Param #   \n",
      "=================================================================\n",
      " conv2d (Conv2D)             (None, 222, 222, 32)      896       \n",
      "                                                                 \n",
      " max_pooling2d (MaxPooling2D  (None, 111, 111, 32)     0         \n",
      " )                                                               \n",
      "                                                                 \n",
      " conv2d_1 (Conv2D)           (None, 109, 109, 64)      18496     \n",
      "                                                                 \n",
      " max_pooling2d_1 (MaxPooling  (None, 54, 54, 64)       0         \n",
      " 2D)                                                             \n",
      "                                                                 \n",
      " conv2d_2 (Conv2D)           (None, 52, 52, 128)       73856     \n",
      "                                                                 \n",
      " max_pooling2d_2 (MaxPooling  (None, 26, 26, 128)      0         \n",
      " 2D)                                                             \n",
      "                                                                 \n",
      " flatten (Flatten)           (None, 86528)             0         \n",
      "                                                                 \n",
      " dense (Dense)               (None, 128)               11075712  \n",
      "                                                                 \n",
      " dense_1 (Dense)             (None, 4)                 516       \n",
      "                                                                 \n",
      "=================================================================\n",
      "Total params: 11,169,476\n",
      "Trainable params: 11,169,476\n",
      "Non-trainable params: 0\n",
      "_________________________________________________________________\n"
     ]
    }
   ],
   "source": [
    "# Construcción del modelo de la CNN\n",
    "\n",
    "# Crear el modelo\n",
    "model = Sequential()\n",
    "\n",
    "# Agregar capas de convolución y max pooling\n",
    "model.add(Conv2D(32, (3, 3), activation='relu', input_shape=(224, 224, 3)))\n",
    "model.add(MaxPooling2D((2, 2)))\n",
    "model.add(Conv2D(64, (3, 3), activation='relu'))\n",
    "model.add(MaxPooling2D((2, 2)))\n",
    "model.add(Conv2D(128, (3, 3), activation='relu'))\n",
    "model.add(MaxPooling2D((2, 2)))\n",
    "\n",
    "# Aplanar la salida de la última capa convolucional\n",
    "model.add(Flatten())\n",
    "\n",
    "# Agregar capas densas (fully connected)\n",
    "model.add(Dense(128, activation='relu'))\n",
    "model.add(Dense(4, activation='softmax'))  # 4 clases: manzanas, peras, bananos, fresas\n",
    "\n",
    "# Compilar el modelo\n",
    "model.compile(optimizer='adam', loss='categorical_crossentropy', metrics=['accuracy'])\n",
    "\n",
    "# Imprimir un resumen del modelo\n",
    "model.summary()"
   ]
  },
  {
   "cell_type": "code",
   "execution_count": null,
   "id": "d534c2e6",
   "metadata": {},
   "outputs": [],
   "source": [
    "# Paso 3: Entrenamiento del modelo\n",
    "\n",
    "model.fit(train_images, train_labels, batch_size=batch_size, epochs=epochs, validation_data=(test_images, test_labels))\n",
    "\n",
    "# Paso 4: Evaluación del modelo\n",
    "\n",
    "test_loss, test_accuracy = model.evaluate(test_images, test_labels)\n",
    "\n",
    "# Paso 5: Clasificación de nuevas imágenes\n",
    "\n",
    "# Descargar imágenes de frutas de Internet\n",
    "# Preprocesar las imágenes\n",
    "# Utilizar el modelo entrenado para predecir las clases de las nuevas imágenes"
   ]
  }
 ],
 "metadata": {
  "kernelspec": {
   "display_name": "Python 3 (ipykernel)",
   "language": "python",
   "name": "python3"
  },
  "language_info": {
   "codemirror_mode": {
    "name": "ipython",
    "version": 3
   },
   "file_extension": ".py",
   "mimetype": "text/x-python",
   "name": "python",
   "nbconvert_exporter": "python",
   "pygments_lexer": "ipython3",
   "version": "3.10.7"
  }
 },
 "nbformat": 4,
 "nbformat_minor": 5
}
