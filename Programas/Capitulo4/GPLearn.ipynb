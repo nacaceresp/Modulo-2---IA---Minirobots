{
 "cells": [
  {
   "attachments": {},
   "cell_type": "markdown",
   "metadata": {},
   "source": [
    "# Punto 4: \n",
    "Estudie en https://gplearn.readthedocs.io/en/stable/intro.html#classification, la librería\n",
    "gplearn de Python; y utilícela para solucionar el ejercicio anterior u otro problema que le\n",
    "interese.\n",
    "Para el problema de descubrimiento de relaciones matemáticas, la librería \"gplearn\" puede ser utilizada para encontrar fórmulas y expresiones simbólicas que describan las interacciones entre las variables en un conjunto de datos.\n",
    "\n",
    "A continuación, te mostraré un ejemplo básico de cómo utilizar \"gplearn\" para descubrir una relación matemática desconocida en un conjunto de datos. Supongamos que tenemos un conjunto de datos con dos variables independientes X1 y X2 y una variable dependiente y, y queremos encontrar una función simbólica que relacione X1 y X2 con y."
   ]
  },
  {
   "cell_type": "code",
   "execution_count": 1,
   "metadata": {},
   "outputs": [],
   "source": [
    "from gplearn.genetic import SymbolicRegressor\n",
    "import numpy as np"
   ]
  },
  {
   "cell_type": "code",
   "execution_count": 2,
   "metadata": {},
   "outputs": [
    {
     "name": "stdout",
     "output_type": "stream",
     "text": [
      "    |   Population Average    |             Best Individual              |\n",
      "---- ------------------------- ------------------------------------------ ----------\n",
      " Gen   Length          Fitness   Length          Fitness      OOB Fitness  Time Left\n",
      "   0    40.23          5413.75       15         0.464955              N/A      3.78s\n",
      "   1    13.58          2.36544       23         0.448288              N/A      2.20s\n",
      "   2    10.85          1.56885       23         0.296361              N/A      1.65s\n",
      "   3    11.35          1.29339       19         0.216768              N/A      1.62s\n",
      "   4    16.25          1.34095       23         0.127732              N/A      1.17s\n",
      "   5    21.17          1.14296       23         0.127732              N/A      0.96s\n",
      "   6    25.66         0.968843       23         0.127732              N/A      0.71s\n",
      "   7    24.33         0.962243       23         0.127732              N/A      0.48s\n",
      "   8    25.20          1.02332       25         0.113365              N/A      0.24s\n",
      "   9    23.22          0.95198       25         0.113365              N/A      0.00s\n",
      "sub(sub(0.765, add(mul(mul(-0.591, X1), mul(X0, mul(add(X1, sub(X1, X0)), div(X1, X1)))), X0)), sub(X0, mul(X1, X0)))\n"
     ]
    }
   ],
   "source": [
    "# Generar datos de ejemplo\n",
    "X1 = np.linspace(-1, 1, 100)\n",
    "X2 = np.linspace(0, 2, 100)\n",
    "y = 3*X1**2 + np.sin(X2) + np.random.normal(0, 0.1, X1.shape)\n",
    "\n",
    "# Concatenar variables independientes en una matriz\n",
    "X = np.column_stack((X1, X2))\n",
    "\n",
    "# Definir y ajustar el modelo\n",
    "model = SymbolicRegressor(population_size=500, generations=10, verbose=1)\n",
    "model.fit(X, y)\n",
    "\n",
    "# Imprimir la mejor expresión encontrada\n",
    "print(model._program)"
   ]
  },
  {
   "attachments": {},
   "cell_type": "markdown",
   "metadata": {},
   "source": [
    "Un análisis más detallado de lo que hace el programa utilizando la librería \"gplearn\" para el descubrimiento de relaciones matemáticas:\n",
    "\n",
    "1. Importación de bibliotecas:\n",
    "   - `SymbolicRegressor` de `gplearn.genetic`: Importamos la clase `SymbolicRegressor` de la librería \"gplearn\". Esta clase se utiliza para definir y ajustar modelos de regresión simbólica mediante algoritmos genéticos.\n",
    "\n",
    "2. Generación de datos de ejemplo:\n",
    "   - `X1`, `X2`: Creamos dos variables independientes `X1` y `X2` generando arreglos de valores a través de `np.linspace`. Estos arreglos definen un rango de valores sobre los cuales se estudiará la relación matemática.\n",
    "   - `y`: Generamos la variable dependiente `y` utilizando una combinación de `X1` y `X2` junto con un término de ruido agregado utilizando `np.random.normal`. Aquí, estamos utilizando una fórmula hipotética `3*X1**2 + np.sin(X2)` para generar `y`.\n",
    "\n",
    "3. Concatenación de variables independientes:\n",
    "   - `X`: Concatenamos las variables independientes `X1` y `X2` en una matriz `X` utilizando `np.column_stack`. Esta matriz se utilizará como entrada para el modelo `SymbolicRegressor`.\n",
    "\n",
    "4. Definición y ajuste del modelo:\n",
    "   - `model`: Creamos una instancia de `SymbolicRegressor` con los parámetros especificados, como `population_size` (tamaño de la población) y `generations` (número de generaciones).\n",
    "   - `model.fit(X, y)`: Ajustamos el modelo a los datos de entrada `X` y `y`. Durante este proceso, el algoritmo genético de \"gplearn\" buscará la mejor expresión simbólica que relacione `X` con `y`.\n",
    "\n",
    "5. Obtención de la mejor expresión encontrada:\n",
    "   - `model._program`: Accedemos al atributo `_program` del modelo, que contiene la mejor expresión simbólica encontrada durante el ajuste del modelo.\n",
    "   - `print(model._program)`: Imprimimos la mejor expresión simbólica encontrada en la consola.\n",
    "\n",
    "En resumen, el programa utiliza la librería \"gplearn\" para ajustar un modelo de regresión simbólica a un conjunto de datos de ejemplo. A través de un proceso de algoritmo genético, busca la mejor expresión simbólica que relacione las variables independientes (`X1` y `X2`) con la variable dependiente (`y`). La mejor expresión encontrada se imprime en la consola."
   ]
  },
  {
   "attachments": {},
   "cell_type": "markdown",
   "metadata": {},
   "source": [
    "En este ejemplo, generamos datos de ejemplo con dos variables independientes X1 y X2 y una variable dependiente y. Luego, concatenamos las variables independientes en una matriz X. Definimos y ajustamos el modelo SymbolicRegressor de \"gplearn\" a los datos utilizando el método fit. Finalmente, imprimimos la mejor expresión encontrada en model._program.\n",
    "\n",
    "Recuerda que este es solo un ejemplo básico y puedes personalizar los parámetros del modelo y el conjunto de datos según tus necesidades. Además, ten en cuenta que el éxito del descubrimiento de relaciones matemáticas dependerá de la calidad y representatividad de los datos proporcionados."
   ]
  }
 ],
 "metadata": {
  "kernelspec": {
   "display_name": "Python 3",
   "language": "python",
   "name": "python3"
  },
  "language_info": {
   "codemirror_mode": {
    "name": "ipython",
    "version": 3
   },
   "file_extension": ".py",
   "mimetype": "text/x-python",
   "name": "python",
   "nbconvert_exporter": "python",
   "pygments_lexer": "ipython3",
   "version": "3.10.7"
  },
  "orig_nbformat": 4
 },
 "nbformat": 4,
 "nbformat_minor": 2
}
