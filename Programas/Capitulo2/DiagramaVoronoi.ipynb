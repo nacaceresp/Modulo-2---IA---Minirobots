{
 "cells": [
  {
   "cell_type": "markdown",
   "id": "7559ff45",
   "metadata": {},
   "source": [
    "1.2 Tome el plano de un barrio o un pueblo y encuentre los vértices de la vecindad de cada polígono que se presenta en una vecindad de Voronoi por medio de un código en Python.\n",
    "\n",
    "En el siguiente código se toma el plano del barrio Normandia Occidental y se encuentran los vértices de la vecindad de Voronoi de cada polígono que se hace para diferentes puntos representativos de tiendas ubicadas dentro del barrio en cuestión.\n",
    "\n",
    "El código parte por importar varias bibliotecas necesarias para realizar diversas operaciones. Entre ellas se encuentran NumPy, pandas, geopandas, shapely, contextily, geovoronoi y matplotlib. "
   ]
  },
  {
   "cell_type": "code",
   "execution_count": 1,
   "id": "20af1616",
   "metadata": {},
   "outputs": [],
   "source": [
    "import numpy as np\n",
    "import pandas as pd\n",
    "import geopandas as gpd\n",
    "from pandas import DataFrame\n",
    "from shapely.ops import unary_union\n",
    "import contextily as ctx\n",
    "from geovoronoi import voronoi_regions_from_coords, points_to_coords\n",
    "import matplotlib.pyplot as plt\n",
    "from geovoronoi.plotting import subplot_for_map, plot_voronoi_polys_with_points_in_area"
   ]
  },
  {
   "cell_type": "markdown",
   "id": "f85c657e",
   "metadata": {},
   "source": [
    "Sucesivamente, se lee un archivo de Excel llamado 'PuntosBta1.xlsx' y se almacena en un objeto DataFrame llamado df. Este archivo contiene datos de las coordenadas de cada tienda dentro del barrio, las cuales fueron halladas mediante https://geoportal.igac.gov.co/contenido/datos-abiertos-catastro.\n"
   ]
  },
  {
   "cell_type": "code",
   "execution_count": 2,
   "id": "7981755d",
   "metadata": {
    "scrolled": true
   },
   "outputs": [],
   "source": [
    "df = pd.read_excel('PuntosBta1.xlsx')"
   ]
  },
  {
   "cell_type": "markdown",
   "id": "a61d557c",
   "metadata": {},
   "source": [
    "Se crea un objeto GeoDataFrame llamado puntos a partir del DataFrame df. Se utiliza la columna 'long' para representar las coordenadas longitudinales y la columna 'lat' para representar las coordenadas latitudinales. "
   ]
  },
  {
   "cell_type": "code",
   "execution_count": 3,
   "id": "f5d187ca",
   "metadata": {},
   "outputs": [],
   "source": [
    "puntos = gpd.GeoDataFrame(df, geometry=gpd.points_from_xy(df.long,df.lat))"
   ]
  },
  {
   "cell_type": "code",
   "execution_count": 4,
   "id": "fa9d60b2",
   "metadata": {},
   "outputs": [
    {
     "data": {
      "text/html": [
       "<div>\n",
       "<style scoped>\n",
       "    .dataframe tbody tr th:only-of-type {\n",
       "        vertical-align: middle;\n",
       "    }\n",
       "\n",
       "    .dataframe tbody tr th {\n",
       "        vertical-align: top;\n",
       "    }\n",
       "\n",
       "    .dataframe thead th {\n",
       "        text-align: right;\n",
       "    }\n",
       "</style>\n",
       "<table border=\"1\" class=\"dataframe\">\n",
       "  <thead>\n",
       "    <tr style=\"text-align: right;\">\n",
       "      <th></th>\n",
       "      <th>long</th>\n",
       "      <th>lat</th>\n",
       "      <th>nombre</th>\n",
       "      <th>geometry</th>\n",
       "    </tr>\n",
       "  </thead>\n",
       "  <tbody>\n",
       "    <tr>\n",
       "      <th>0</th>\n",
       "      <td>-74.097900</td>\n",
       "      <td>4.647265</td>\n",
       "      <td>peluco</td>\n",
       "      <td>POINT (-74.09790 4.64726)</td>\n",
       "    </tr>\n",
       "    <tr>\n",
       "      <th>1</th>\n",
       "      <td>-74.095931</td>\n",
       "      <td>4.648242</td>\n",
       "      <td>s51</td>\n",
       "      <td>POINT (-74.09593 4.64824)</td>\n",
       "    </tr>\n",
       "    <tr>\n",
       "      <th>2</th>\n",
       "      <td>-74.096188</td>\n",
       "      <td>4.645761</td>\n",
       "      <td>Jasmin</td>\n",
       "      <td>POINT (-74.09619 4.64576)</td>\n",
       "    </tr>\n",
       "    <tr>\n",
       "      <th>3</th>\n",
       "      <td>-74.094086</td>\n",
       "      <td>4.646402</td>\n",
       "      <td>DondeMocho</td>\n",
       "      <td>POINT (-74.09409 4.64640)</td>\n",
       "    </tr>\n",
       "    <tr>\n",
       "      <th>4</th>\n",
       "      <td>-74.095330</td>\n",
       "      <td>4.643237</td>\n",
       "      <td>Esmeralda</td>\n",
       "      <td>POINT (-74.09533 4.64324)</td>\n",
       "    </tr>\n",
       "  </tbody>\n",
       "</table>\n",
       "</div>"
      ],
      "text/plain": [
       "        long       lat      nombre                   geometry\n",
       "0 -74.097900  4.647265      peluco  POINT (-74.09790 4.64726)\n",
       "1 -74.095931  4.648242         s51  POINT (-74.09593 4.64824)\n",
       "2 -74.096188  4.645761      Jasmin  POINT (-74.09619 4.64576)\n",
       "3 -74.094086  4.646402  DondeMocho  POINT (-74.09409 4.64640)\n",
       "4 -74.095330  4.643237   Esmeralda  POINT (-74.09533 4.64324)"
      ]
     },
     "execution_count": 4,
     "metadata": {},
     "output_type": "execute_result"
    }
   ],
   "source": [
    "puntos.head()"
   ]
  },
  {
   "cell_type": "markdown",
   "id": "45a983f9",
   "metadata": {},
   "source": [
    "Se convierten estos puntos en un sistema de coordenadas de referencia (CRS)WGS84 Latitude/Longitude: 'EPSG:4326'"
   ]
  },
  {
   "cell_type": "code",
   "execution_count": 5,
   "id": "98789a28",
   "metadata": {},
   "outputs": [],
   "source": [
    "puntos.crs = \"EPSG:4326\""
   ]
  },
  {
   "cell_type": "markdown",
   "id": "a073f59c",
   "metadata": {},
   "source": [
    "Hay que leer la informacion georeferenciada del barrio. Se lee como dataFrame y lugo como un geodataframe.  A continuación se importa el poligono de un barrio en bogotá, Colombia. Esto crea una estructura de datos espacial que contiene los puntos geográficos.  Posteriormente, se asigna un sistema de referencia de coordenadas y se lee un archivo shapefile llamado \"Catastro_SCat.shp\" y se almacena en un objeto GeoDataFrame llamado cat. Este archivo contiene datos geoespaciales relacionados con los límites de los barrios y fue hallado en https://datosabiertos.bogota.gov.co/dataset?groups=ordenamiento-territorial"
   ]
  },
  {
   "cell_type": "code",
   "execution_count": 6,
   "id": "76686da4",
   "metadata": {},
   "outputs": [],
   "source": [
    "cat = gpd.read_file(\"Catastro_SCat.shp\")"
   ]
  },
  {
   "cell_type": "markdown",
   "id": "b4c67860",
   "metadata": {},
   "source": [
    "Se crea un nuevo GeoDataFrame llamado barrio eliminando varias filas del GeoDataFrame cat. Se eliminan las filas con índices 0, 1, 2, ..., 1010, 1011, ... pues todas estas eran otros barrios que se tenian en el mapa de bogota diferentes al barrio que se requeria graficar. "
   ]
  },
  {
   "cell_type": "code",
   "execution_count": 7,
   "id": "7bf04c0d",
   "metadata": {},
   "outputs": [],
   "source": [
    "barrio = cat.drop([0,1, 2, 3, 4, 5, 6, 7, 8, 9, 10, 11, 12, 13, 14, 15, 16, 17, 18, 19, 20, 21, 22, 23, 24, 25, 26, 27, 28, 29, 30, 31, 32, 33, 34, 35, 36, 37, 38, 39, 40, 41, 42, 43, 44, 45, 46, 47, 48, 49, 50, 51, 52, 53, 54, 55, 56, 57, 58, 59, 60, 61, 62, 63, 64, 65, 66, 67, 68, 69, 70, 71, 72, 73, 74, 75, 76, 77, 78, 79, 80, 81, 82, 83, 84, 85, 86, 87, 88, 89, 90, 91, 92, 93, 94, 95, 96, 97, 98, 99, 100, 101, 102, 103, 104, 105, 106, 107, 108, 109, 110, 111, 112, 113, 114, 115, 116, 117, 118, 119, 120, 121, 122, 123, 124, 125, 126, 127, 128, 129, 130, 131, 132, 133, 134, 135, 136, 137, 138, 139, 140, 141, 142, 143, 144, 145, 146, 147, 148, 149, 150, 151, 152, 153, 154, 155, 156, 157, 158, 159, 160, 161, 162, 163, 164, 165, 166, 167, 168, 169, 170, 171, 172, 173, 174, 175, 176, 177, 178, 179, 180, 181, 182, 183, 184, 185, 186, 187, 188, 189, 190, 191, 192, 193, 194, 195, 196, 197, 198, 199, 200, 201, 202, 203, 204, 205, 206, 207, 208, 209, 210, 211, 212, 213, 214, 215, 216, 217, 218, 219, 220, 221, 222, 223, 224, 225, 226, 227, 228, 229, 230, 231, 232, 233, 234, 235, 236, 237, 238, 239, 240, 241, 242, 243, 244, 245, 246, 247, 248, 249, 250, 251, 252, 253, 254, 255, 256, 257, 258, 259, 260, 261, 262, 263, 264, 265, 266, 267, 268, 269, 270, 271, 272, 273, 274, 275, 276, 277, 278, 279, 280, 281, 282, 283, 284, 285, 286, 287, 288, 289, 290, 291, 292, 293, 294, 295, 296, 297, 298, 299, 300, 301, 302, 303, 304, 305, 306, 307, 308, 309, 310, 311, 312, 313, 314, 315, 316, 317, 318, 319, 320, 321, 322, 323, 324, 325, 326, 327, 328, 329, 330, 331, 332, 333, 334, 335, 336, 337, 338, 339, 340, 341, 342, 343, 344, 345, 346, 347, 348, 349, 350, 351, 352, 353, 354, 355, 356, 357, 358, 359, 360, 361, 362, 363, 364, 365, 366, 367, 368, 369, 370, 371, 372, 373, 374, 375, 376, 377, 378, 379, 380, 381, 382, 383, 384, 385, 386, 387, 388, 389, 390, 391, 392, 393, 394, 395, 396, 397, 398, 399, 400, 401, 402, 403, 404, 405, 406, 407, 408, 409, 410, 411, 412, 413, 414, 415, 416, 417, 418, 419, 420, 421, 422, 423, 424, 425, 426, 427, 428, 429, 430, 431, 432, 433, 434, 435, 436, 437, 438, 439, 440, 441, 442, 443, 444, 445, 446, 447, 448, 449, 450, 451, 452, 453, 454, 455, 456, 457, 458, 459, 460, 461, 462, 463, 464, 465, 466, 467, 468, 469, 470, 471, 472, 473, 474, 475, 476, 477, 478, 479, 480, 481, 482, 483, 484, 485, 486, 487, 488, 489, 490, 491, 492, 493, 494, 495, 496, 497, 498, 499, 500, 501, 502, 503, 504, 505, 506, 507, 508, 509, 510, 511, 512, 513, 514, 515, 516, 517, 518, 519, 520, 521, 522, 523, 524, 525, 526, 527, 528, 529, 530, 531, 532, 533, 534, 535, 536, 537, 538, 539, 540, 541, 542, 543, 544, 545, 546, 547, 548, 549, 550, 551, 552, 553, 554, 555, 556, 557, 558, 559, 560, 561, 562, 563, 564, 565, 566, 567, 568, 569, 570, 571, 572, 573, 574, 575, 576, 577, 578, 579, 580, 581, 582, 583, 584, 585, 586, 587, 588, 589, 590, 591, 592, 593, 594, 595, 596, 597, 598, 599, 600, 601, 602, 603, 604, 605, 606, 607, 608, 609, 610, 611, 612, 613, 614, 615, 616, 617, 618, 619, 620, 621, 622, 623, 624, 625, 626, 627, 628, 629, 630, 631, 632, 633, 634, 635, 636, 637, 638, 639, 640, 641, 642, 643, 644, 645, 646, 647, 648, 649, 650, 651, 652, 653, 654, 655, 656, 657, 658, 659, 660, 661, 662, 663, 664, 665, 666, 667, 668, 669, 670, 671, 672, 673, 674, 675, 676, 677, 678, 679, 680, 681, 682, 683, 684, 685, 686, 687, 688, 689, 690, 691, 692, 693, 694, 695, 696, 697, 698, 699, 700, 701, 702, 703, 704, 705, 706, 707, 708, 709, 710, 711, 712, 713, 714, 715, 716, 717, 718, 719, 720, 721, 722, 723, 724, 725, 726, 727, 728, 729, 730, 731, 732, 733, 734, 735, 736, 737, 738, 739, 740, 741, 742, 743, 744, 745, 746, 747, 748, 749, 750, 751, 752, 753, 754, 755, 756, 757, 758, 759, 760, 761, 762, 763, 764, 765, 766, 767, 768, 769, 770, 771, 772, 773, 774, 775, 776, 777, 778, 779, 780, 781, 782, 783, 784, 785, 786, 787, 788, 789, 790, 791, 792, 793, 794, 795, 796, 797, 798, 799, 800, 801, 802, 803, 804, 805, 806, 807, 808, 809, 810, 811, 812, 813, 814, 815, 816, 817, 818, 819, 820, 821, 822, 823, 824, 825, 826, 827, 828, 829, 830, 831, 832, 833, 834, 835, 836, 837, 838, 839, 840, 841, 842, 843, 844, 845, 846, 847, 848, 849, 850, 851, 852, 853, 854, 855, 856, 857, 858, 859, 860, 861, 862, 863, 864, 865, 866, 867, 868, 869, 870, 871, 872, 873, 874, 875, 876, 877, 878, 879, 880, 881, 882, 883, 884, 885, 886, 887, 888, 889, 890, 891, 892, 893, 894, 895, 896, 897, 898, 899, 900, 901, 902, 903, 904, 905, 906, 907, 908, 909, 910, 911, 912, 913, 914, 915, 916, 917, 918, 919, 920, 921, 922, 923, 924, 925, 926, 927, 928, 929, 930, 931, 932, 933, 934, 935, 936, 937, 938, 939, 940, 941, 942, 943, 944, 945, 946, 947, 948, 949, 950, 951, 952, 953, 954, 955, 956, 957, 958, 959, 960, 961, 962, 963, 964, 965, 966, 967, 968, 969, 970, 971, 972, 973, 974, 975, 976, 977, 978, 979, 980, 981, 982, 983, 984, 985, 986, 987, 988, 989, 990, 991, 992, 993, 994, 995, 996, 997, 998, 999, 1000, 1001, 1002, 1003, 1004, 1005, 1006, 1007, 1008, 1009, 1010, 1011, 1012, 1013, 1014, 1015, 1016, 1017, 1018, 1019, 1020, 1021, 1022, 1023, 1024, 1025, 1026, 1027, 1028, 1029, 1030, 1031, 1032, 1033, 1034, 1035, 1036, 1037, 1038, 1039, 1040, 1041, 1042, 1043, 1044, 1045, 1046, 1047, 1048, 1049, 1050, 1051, 1052, 1053, 1054, 1055, 1056, 1057, 1058, 1059, 1060, 1061, 1062, 1063, 1064, 1065, 1066, 1067, 1068, 1069, 1070, 1071, 1072, 1073, 1074, 1075, 1076, 1077, 1078, 1079, 1080, 1081, 1082, 1083, 1084, 1085, 1086, 1087, 1088, 1089, 1090, 1091, 1092, 1093, 1094, 1095, 1096, 1097, 1098, 1099, 1100, 1101, 1102, 1103, 1104, 1105, 1106, 1107, 1108, 1109, 1110, 1111, 1112, 1113, 1114, 1115, 1116, 1117, 1118, 1119, 1120, 1121, 1122, 1123, 1124, 1125, 1126, 1127, 1128, 1129, 1130, 1131, 1132, 1133, 1134, 1135, 1136, 1137, 1138, 1139, 1140, 1141, 1142, 1143, 1144, 1145, 1146, 1147, 1148, 1149, 1150, 1151, 1152, 1153, 1154, 1155, 1156, 1157, 1159, 1160, 1161, 1162, 1163, 1164, 1165, 1166, 1167, 1168 , 1169 , 1170],axis=0)"
   ]
  },
  {
   "cell_type": "markdown",
   "id": "e33ed573",
   "metadata": {},
   "source": [
    "Se Grafica el .shp y los puntos.\n"
   ]
  },
  {
   "cell_type": "code",
   "execution_count": 8,
   "id": "ece5b298",
   "metadata": {
    "scrolled": false
   },
   "outputs": [
    {
     "data": {
      "image/png": "[encoded data removed]",
      "text/plain": [
       "<Figure size 1200x1000 with 1 Axes>"
      ]
     },
     "metadata": {},
     "output_type": "display_data"
    }
   ],
   "source": [
    "fig, ax = plt.subplots(figsize=(12, 10))\n",
    "barrio.plot(ax=ax, color=\"orange\")\n",
    "puntos.plot(ax=ax, markersize=3.5, color=\"black\")\n",
    "ax.axis(\"off\")\n",
    "plt.axis('equal')\n",
    "plt.show()"
   ]
  },
  {
   "cell_type": "markdown",
   "id": "5cf1ba0d",
   "metadata": {},
   "source": [
    "Ajusta la info al sistema de coordenadas de referencia (CRS) epsg=32636\n"
   ]
  },
  {
   "cell_type": "code",
   "execution_count": 9,
   "id": "486b340f",
   "metadata": {},
   "outputs": [],
   "source": [
    "barrio = barrio.to_crs(epsg=3395) \n",
    "pnts = puntos.to_crs(barrio.crs)"
   ]
  },
  {
   "cell_type": "markdown",
   "id": "f8323136",
   "metadata": {},
   "source": [
    "Se convierten datos a formato que use Geovoronoi"
   ]
  },
  {
   "cell_type": "code",
   "execution_count": 10,
   "id": "9a3126eb",
   "metadata": {},
   "outputs": [],
   "source": [
    "barrio_shape = unary_union(barrio.geometry)\n",
    "pnts_coord = points_to_coords(pnts.geometry)"
   ]
  },
  {
   "cell_type": "code",
   "execution_count": 11,
   "id": "eb4e0b74",
   "metadata": {},
   "outputs": [],
   "source": [
    "region_polys, region_pts = voronoi_regions_from_coords(pnts_coord, barrio_shape)"
   ]
  },
  {
   "cell_type": "markdown",
   "id": "7b7717bd",
   "metadata": {},
   "source": [
    "Finalmente, se muestra el diagrama de Voronoi para el barrio Normandia Occidental, observando las diferentes vecindades entre las tiendas que lo componen."
   ]
  },
  {
   "cell_type": "code",
   "execution_count": 12,
   "id": "fd8e3526",
   "metadata": {},
   "outputs": [
    {
     "ename": "IndexError",
     "evalue": "too many indices for array: array is 0-dimensional, but 2 were indexed",
     "output_type": "error",
     "traceback": [
      "\u001b[0;31m---------------------------------------------------------------------------\u001b[0m",
      "\u001b[0;31mIndexError\u001b[0m                                Traceback (most recent call last)",
      "Cell \u001b[0;32mIn [12], line 2\u001b[0m\n\u001b[1;32m      1\u001b[0m fig, ax \u001b[38;5;241m=\u001b[39m subplot_for_map()\n\u001b[0;32m----> 2\u001b[0m plot_voronoi_polys_with_points_in_area(ax, barrio_shape, region_polys, pnts_coord, region_pts)\n\u001b[1;32m      3\u001b[0m plt\u001b[38;5;241m.\u001b[39mshow()\n",
      "File \u001b[0;32m/Library/Frameworks/Python.framework/Versions/3.10/lib/python3.10/site-packages/geovoronoi/plotting.py:285\u001b[0m, in \u001b[0;36mplot_voronoi_polys_with_points_in_area\u001b[0;34m(ax, area_shape, region_polys, points, region_pts, area_color, area_edgecolor, voronoi_and_points_cmap, voronoi_color, voronoi_edgecolor, points_color, points_markersize, points_marker, voronoi_labels, voronoi_label_fontsize, voronoi_label_color, point_labels, point_label_fontsize, point_label_color, plot_area_opts, plot_voronoi_opts, plot_points_opts)\u001b[0m\n\u001b[1;32m    282\u001b[0m plot_points_opts \u001b[38;5;241m=\u001b[39m plot_points_opts \u001b[38;5;129;01mor\u001b[39;00m {}\n\u001b[1;32m    284\u001b[0m \u001b[38;5;28;01mif\u001b[39;00m area_shape \u001b[38;5;129;01mis\u001b[39;00m \u001b[38;5;129;01mnot\u001b[39;00m \u001b[38;5;28;01mNone\u001b[39;00m:\n\u001b[0;32m--> 285\u001b[0m     \u001b[43mplot_polygon_collection_with_color\u001b[49m\u001b[43m(\u001b[49m\u001b[43max\u001b[49m\u001b[43m,\u001b[49m\u001b[43m \u001b[49m\u001b[43m[\u001b[49m\u001b[43marea_shape\u001b[49m\u001b[43m]\u001b[49m\u001b[43m,\u001b[49m\u001b[43m \u001b[49m\u001b[43mcolor\u001b[49m\u001b[38;5;241;43m=\u001b[39;49m\u001b[43marea_color\u001b[49m\u001b[43m,\u001b[49m\u001b[43m \u001b[49m\u001b[43medgecolor\u001b[49m\u001b[38;5;241;43m=\u001b[39;49m\u001b[43marea_edgecolor\u001b[49m\u001b[43m,\u001b[49m\n\u001b[1;32m    286\u001b[0m \u001b[43m                                       \u001b[49m\u001b[38;5;241;43m*\u001b[39;49m\u001b[38;5;241;43m*\u001b[39;49m\u001b[43mplot_area_opts\u001b[49m\u001b[43m)\u001b[49m\n\u001b[1;32m    288\u001b[0m \u001b[38;5;28;01mif\u001b[39;00m voronoi_and_points_cmap \u001b[38;5;129;01mand\u001b[39;00m region_pts \u001b[38;5;129;01mand\u001b[39;00m (voronoi_color \u001b[38;5;129;01mis\u001b[39;00m \u001b[38;5;28;01mNone\u001b[39;00m \u001b[38;5;129;01mor\u001b[39;00m points_color \u001b[38;5;129;01mis\u001b[39;00m \u001b[38;5;28;01mNone\u001b[39;00m):\n\u001b[1;32m    289\u001b[0m     voronoi_color, points_color \u001b[38;5;241m=\u001b[39m colors_for_voronoi_polys_and_points(region_polys, region_pts,\n\u001b[1;32m    290\u001b[0m                                                                       point_indices\u001b[38;5;241m=\u001b[39m\u001b[38;5;28mlist\u001b[39m(\u001b[38;5;28mrange\u001b[39m(\u001b[38;5;28mlen\u001b[39m(points))),\n\u001b[1;32m    291\u001b[0m                                                                       cmap_name\u001b[38;5;241m=\u001b[39mvoronoi_and_points_cmap)\n",
      "File \u001b[0;32m/Library/Frameworks/Python.framework/Versions/3.10/lib/python3.10/site-packages/geovoronoi/plotting.py:354\u001b[0m, in \u001b[0;36mplot_polygon_collection_with_color\u001b[0;34m(ax, geoms, color, **kwargs)\u001b[0m\n\u001b[1;32m    351\u001b[0m \u001b[38;5;28;01mif\u001b[39;00m \u001b[38;5;124m'\u001b[39m\u001b[38;5;124mmarkersize\u001b[39m\u001b[38;5;124m'\u001b[39m \u001b[38;5;129;01min\u001b[39;00m kwargs:\n\u001b[1;32m    352\u001b[0m     \u001b[38;5;28;01mdel\u001b[39;00m kwargs[\u001b[38;5;124m'\u001b[39m\u001b[38;5;124mmarkersize\u001b[39m\u001b[38;5;124m'\u001b[39m]\n\u001b[0;32m--> 354\u001b[0m collection \u001b[38;5;241m=\u001b[39m PatchCollection([PolygonPatch(poly) \u001b[38;5;28;01mfor\u001b[39;00m poly \u001b[38;5;129;01min\u001b[39;00m geoms],\n\u001b[1;32m    355\u001b[0m                              color\u001b[38;5;241m=\u001b[39mcolor_values, \u001b[38;5;241m*\u001b[39m\u001b[38;5;241m*\u001b[39mkwargs)\n\u001b[1;32m    357\u001b[0m ax\u001b[38;5;241m.\u001b[39madd_collection(collection, autolim\u001b[38;5;241m=\u001b[39m\u001b[38;5;28;01mTrue\u001b[39;00m)\n\u001b[1;32m    358\u001b[0m ax\u001b[38;5;241m.\u001b[39mautoscale_view()\n",
      "File \u001b[0;32m/Library/Frameworks/Python.framework/Versions/3.10/lib/python3.10/site-packages/geovoronoi/plotting.py:354\u001b[0m, in \u001b[0;36m<listcomp>\u001b[0;34m(.0)\u001b[0m\n\u001b[1;32m    351\u001b[0m \u001b[38;5;28;01mif\u001b[39;00m \u001b[38;5;124m'\u001b[39m\u001b[38;5;124mmarkersize\u001b[39m\u001b[38;5;124m'\u001b[39m \u001b[38;5;129;01min\u001b[39;00m kwargs:\n\u001b[1;32m    352\u001b[0m     \u001b[38;5;28;01mdel\u001b[39;00m kwargs[\u001b[38;5;124m'\u001b[39m\u001b[38;5;124mmarkersize\u001b[39m\u001b[38;5;124m'\u001b[39m]\n\u001b[0;32m--> 354\u001b[0m collection \u001b[38;5;241m=\u001b[39m PatchCollection([\u001b[43mPolygonPatch\u001b[49m\u001b[43m(\u001b[49m\u001b[43mpoly\u001b[49m\u001b[43m)\u001b[49m \u001b[38;5;28;01mfor\u001b[39;00m poly \u001b[38;5;129;01min\u001b[39;00m geoms],\n\u001b[1;32m    355\u001b[0m                              color\u001b[38;5;241m=\u001b[39mcolor_values, \u001b[38;5;241m*\u001b[39m\u001b[38;5;241m*\u001b[39mkwargs)\n\u001b[1;32m    357\u001b[0m ax\u001b[38;5;241m.\u001b[39madd_collection(collection, autolim\u001b[38;5;241m=\u001b[39m\u001b[38;5;28;01mTrue\u001b[39;00m)\n\u001b[1;32m    358\u001b[0m ax\u001b[38;5;241m.\u001b[39mautoscale_view()\n",
      "File \u001b[0;32m/Library/Frameworks/Python.framework/Versions/3.10/lib/python3.10/site-packages/descartes/patch.py:87\u001b[0m, in \u001b[0;36mPolygonPatch\u001b[0;34m(polygon, **kwargs)\u001b[0m\n\u001b[1;32m     73\u001b[0m \u001b[38;5;28;01mdef\u001b[39;00m \u001b[38;5;21mPolygonPatch\u001b[39m(polygon, \u001b[38;5;241m*\u001b[39m\u001b[38;5;241m*\u001b[39mkwargs):\n\u001b[1;32m     74\u001b[0m     \u001b[38;5;124;03m\"\"\"Constructs a matplotlib patch from a geometric object\u001b[39;00m\n\u001b[1;32m     75\u001b[0m \n\u001b[1;32m     76\u001b[0m \u001b[38;5;124;03m    The `polygon` may be a Shapely or GeoJSON-like object with or without holes.\u001b[39;00m\n\u001b[0;32m   (...)\u001b[0m\n\u001b[1;32m     85\u001b[0m \n\u001b[1;32m     86\u001b[0m \u001b[38;5;124;03m    \"\"\"\u001b[39;00m\n\u001b[0;32m---> 87\u001b[0m     \u001b[38;5;28;01mreturn\u001b[39;00m PathPatch(\u001b[43mPolygonPath\u001b[49m\u001b[43m(\u001b[49m\u001b[43mpolygon\u001b[49m\u001b[43m)\u001b[49m, \u001b[38;5;241m*\u001b[39m\u001b[38;5;241m*\u001b[39mkwargs)\n",
      "File \u001b[0;32m/Library/Frameworks/Python.framework/Versions/3.10/lib/python3.10/site-packages/descartes/patch.py:62\u001b[0m, in \u001b[0;36mPolygonPath\u001b[0;34m(polygon)\u001b[0m\n\u001b[1;32m     58\u001b[0m     \u001b[38;5;28;01melse\u001b[39;00m:\n\u001b[1;32m     59\u001b[0m         \u001b[38;5;28;01mraise\u001b[39;00m \u001b[38;5;167;01mValueError\u001b[39;00m(\n\u001b[1;32m     60\u001b[0m             \u001b[38;5;124m\"\u001b[39m\u001b[38;5;124mA polygon or multi-polygon representation is required\u001b[39m\u001b[38;5;124m\"\u001b[39m)\n\u001b[0;32m---> 62\u001b[0m vertices \u001b[38;5;241m=\u001b[39m concatenate([\n\u001b[1;32m     63\u001b[0m     concatenate([asarray(t\u001b[38;5;241m.\u001b[39mexterior)[:, :\u001b[38;5;241m2\u001b[39m]] \u001b[38;5;241m+\u001b[39m\n\u001b[1;32m     64\u001b[0m                 [asarray(r)[:, :\u001b[38;5;241m2\u001b[39m] \u001b[38;5;28;01mfor\u001b[39;00m r \u001b[38;5;129;01min\u001b[39;00m t\u001b[38;5;241m.\u001b[39minteriors])\n\u001b[1;32m     65\u001b[0m     \u001b[38;5;28;01mfor\u001b[39;00m t \u001b[38;5;129;01min\u001b[39;00m polygon])\n\u001b[1;32m     66\u001b[0m codes \u001b[38;5;241m=\u001b[39m concatenate([\n\u001b[1;32m     67\u001b[0m     concatenate([coding(t\u001b[38;5;241m.\u001b[39mexterior)] \u001b[38;5;241m+\u001b[39m\n\u001b[1;32m     68\u001b[0m                 [coding(r) \u001b[38;5;28;01mfor\u001b[39;00m r \u001b[38;5;129;01min\u001b[39;00m t\u001b[38;5;241m.\u001b[39minteriors]) \u001b[38;5;28;01mfor\u001b[39;00m t \u001b[38;5;129;01min\u001b[39;00m polygon])\n\u001b[1;32m     70\u001b[0m \u001b[38;5;28;01mreturn\u001b[39;00m Path(vertices, codes)\n",
      "File \u001b[0;32m/Library/Frameworks/Python.framework/Versions/3.10/lib/python3.10/site-packages/descartes/patch.py:63\u001b[0m, in \u001b[0;36m<listcomp>\u001b[0;34m(.0)\u001b[0m\n\u001b[1;32m     58\u001b[0m     \u001b[38;5;28;01melse\u001b[39;00m:\n\u001b[1;32m     59\u001b[0m         \u001b[38;5;28;01mraise\u001b[39;00m \u001b[38;5;167;01mValueError\u001b[39;00m(\n\u001b[1;32m     60\u001b[0m             \u001b[38;5;124m\"\u001b[39m\u001b[38;5;124mA polygon or multi-polygon representation is required\u001b[39m\u001b[38;5;124m\"\u001b[39m)\n\u001b[1;32m     62\u001b[0m vertices \u001b[38;5;241m=\u001b[39m concatenate([\n\u001b[0;32m---> 63\u001b[0m     concatenate([\u001b[43masarray\u001b[49m\u001b[43m(\u001b[49m\u001b[43mt\u001b[49m\u001b[38;5;241;43m.\u001b[39;49m\u001b[43mexterior\u001b[49m\u001b[43m)\u001b[49m\u001b[43m[\u001b[49m\u001b[43m:\u001b[49m\u001b[43m,\u001b[49m\u001b[43m \u001b[49m\u001b[43m:\u001b[49m\u001b[38;5;241;43m2\u001b[39;49m\u001b[43m]\u001b[49m] \u001b[38;5;241m+\u001b[39m\n\u001b[1;32m     64\u001b[0m                 [asarray(r)[:, :\u001b[38;5;241m2\u001b[39m] \u001b[38;5;28;01mfor\u001b[39;00m r \u001b[38;5;129;01min\u001b[39;00m t\u001b[38;5;241m.\u001b[39minteriors])\n\u001b[1;32m     65\u001b[0m     \u001b[38;5;28;01mfor\u001b[39;00m t \u001b[38;5;129;01min\u001b[39;00m polygon])\n\u001b[1;32m     66\u001b[0m codes \u001b[38;5;241m=\u001b[39m concatenate([\n\u001b[1;32m     67\u001b[0m     concatenate([coding(t\u001b[38;5;241m.\u001b[39mexterior)] \u001b[38;5;241m+\u001b[39m\n\u001b[1;32m     68\u001b[0m                 [coding(r) \u001b[38;5;28;01mfor\u001b[39;00m r \u001b[38;5;129;01min\u001b[39;00m t\u001b[38;5;241m.\u001b[39minteriors]) \u001b[38;5;28;01mfor\u001b[39;00m t \u001b[38;5;129;01min\u001b[39;00m polygon])\n\u001b[1;32m     70\u001b[0m \u001b[38;5;28;01mreturn\u001b[39;00m Path(vertices, codes)\n",
      "\u001b[0;31mIndexError\u001b[0m: too many indices for array: array is 0-dimensional, but 2 were indexed"
     ]
    },
    {
     "data": {
      "image/png": "[encoded data removed]",
      "text/plain": [
       "<Figure size 640x480 with 1 Axes>"
      ]
     },
     "metadata": {},
     "output_type": "display_data"
    }
   ],
   "source": [
    "fig, ax = subplot_for_map()\n",
    "plot_voronoi_polys_with_points_in_area(ax, barrio_shape, region_polys, pnts_coord, region_pts)\n",
    "plt.show()"
   ]
  },
  {
   "cell_type": "markdown",
   "id": "0a3b6880",
   "metadata": {},
   "source": [
    "fig, ax = subplot_for_map()\n",
    "plot_voronoi_polys_with_points_in_area(ax, barrio_shape, region_polys, pnts_coord, region_pts)\n",
    "plt.show()"
   ]
  },
  {
   "cell_type": "code",
   "execution_count": 13,
   "id": "1cd45e2e",
   "metadata": {},
   "outputs": [
    {
     "ename": "NameError",
     "evalue": "name 'poly_shapes' is not defined",
     "output_type": "error",
     "traceback": [
      "\u001b[0;31m---------------------------------------------------------------------------\u001b[0m",
      "\u001b[0;31mNameError\u001b[0m                                 Traceback (most recent call last)",
      "Cell \u001b[0;32mIn [13], line 2\u001b[0m\n\u001b[1;32m      1\u001b[0m fig, ax \u001b[38;5;241m=\u001b[39m subplot_for_map()\n\u001b[0;32m----> 2\u001b[0m plot_voronoi_polys_with_points_in_area(ax, barrio_shape, poly_shapes, pnts_coord)\n\u001b[1;32m      3\u001b[0m ax\u001b[38;5;241m.\u001b[39mset_title(\u001b[38;5;124m'\u001b[39m\u001b[38;5;124mCities data for South America from GeoPandas\u001b[39m\u001b[38;5;130;01m\\n\u001b[39;00m\u001b[38;5;124mand Voronoi regions around them\u001b[39m\u001b[38;5;124m'\u001b[39m)\n\u001b[1;32m      4\u001b[0m plt\u001b[38;5;241m.\u001b[39mtight_layout()\n",
      "\u001b[0;31mNameError\u001b[0m: name 'poly_shapes' is not defined"
     ]
    },
    {
     "data": {
      "image/png": "[encoded data removed]",
      "text/plain": [
       "<Figure size 640x480 with 1 Axes>"
      ]
     },
     "metadata": {},
     "output_type": "display_data"
    }
   ],
   "source": [
    "fig, ax = subplot_for_map()\n",
    "plot_voronoi_polys_with_points_in_area(ax, barrio_shape, poly_shapes, pnts_coord)\n",
    "ax.set_title('Cities data for South America from GeoPandas\\nand Voronoi regions around them')\n",
    "plt.tight_layout()\n",
    "plt.savefig('using_geopandas.png')\n",
    "plt.show()\n",
    "\n"
   ]
  },
  {
   "cell_type": "code",
   "execution_count": 14,
   "id": "c8f79912",
   "metadata": {
    "scrolled": true
   },
   "outputs": [
    {
     "ename": "ValueError",
     "evalue": "not enough values to unpack (expected 3, got 2)",
     "output_type": "error",
     "traceback": [
      "\u001b[0;31m---------------------------------------------------------------------------\u001b[0m",
      "\u001b[0;31mValueError\u001b[0m                                Traceback (most recent call last)",
      "Cell \u001b[0;32mIn [14], line 1\u001b[0m\n\u001b[0;32m----> 1\u001b[0m poly_shapes, pts, poly_to_pt_assignments \u001b[38;5;241m=\u001b[39m voronoi_regions_from_coords(pnts_coord, barrio_shape)\n",
      "\u001b[0;31mValueError\u001b[0m: not enough values to unpack (expected 3, got 2)"
     ]
    }
   ],
   "source": [
    "poly_shapes, pts, poly_to_pt_assignments = voronoi_regions_from_coords(pnts_coord, barrio_shape)"
   ]
  },
  {
   "cell_type": "code",
   "execution_count": 15,
   "id": "5e76082b",
   "metadata": {},
   "outputs": [
    {
     "ename": "NameError",
     "evalue": "name 'cat_shape' is not defined",
     "output_type": "error",
     "traceback": [
      "\u001b[0;31m---------------------------------------------------------------------------\u001b[0m",
      "\u001b[0;31mNameError\u001b[0m                                 Traceback (most recent call last)",
      "Cell \u001b[0;32mIn [15], line 2\u001b[0m\n\u001b[1;32m      1\u001b[0m fig, ax \u001b[38;5;241m=\u001b[39m subplot_for_map(figsize\u001b[38;5;241m=\u001b[39m(\u001b[38;5;241m14.5\u001b[39m,\u001b[38;5;241m10\u001b[39m))\n\u001b[0;32m----> 2\u001b[0m plot_voronoi_polys_with_points_in_area(ax, cat_shape, region_polys, region_pts, coords)\n\u001b[1;32m      3\u001b[0m plt\u001b[38;5;241m.\u001b[39mtight_layaout()\n\u001b[1;32m      4\u001b[0m plt\u001b[38;5;241m.\u001b[39mshow()\n",
      "\u001b[0;31mNameError\u001b[0m: name 'cat_shape' is not defined"
     ]
    },
    {
     "data": {
      "image/png": "[encoded data removed]",
      "text/plain": [
       "<Figure size 1450x1000 with 1 Axes>"
      ]
     },
     "metadata": {},
     "output_type": "display_data"
    }
   ],
   "source": [
    "fig, ax = subplot_for_map(figsize=(14.5,10))\n",
    "plot_voronoi_polys_with_points_in_area(ax, cat_shape, region_polys, region_pts, coords)\n",
    "plt.tight_layaout()\n",
    "plt.show()"
   ]
  },
  {
   "cell_type": "markdown",
   "id": "936f50c6",
   "metadata": {},
   "source": [
    "Graficamos el diagrama "
   ]
  },
  {
   "cell_type": "code",
   "execution_count": 16,
   "id": "a188fffc",
   "metadata": {},
   "outputs": [
    {
     "ename": "NameError",
     "evalue": "name 'coords' is not defined",
     "output_type": "error",
     "traceback": [
      "\u001b[0;31m---------------------------------------------------------------------------\u001b[0m",
      "\u001b[0;31mNameError\u001b[0m                                 Traceback (most recent call last)",
      "Cell \u001b[0;32mIn [16], line 1\u001b[0m\n\u001b[0;32m----> 1\u001b[0m poly_shapes, pts, poly_to_pt_assignments \u001b[38;5;241m=\u001b[39m voronoi_regions_from_coords(coords)\n",
      "\u001b[0;31mNameError\u001b[0m: name 'coords' is not defined"
     ]
    }
   ],
   "source": [
    "poly_shapes, pts, poly_to_pt_assignments = voronoi_regions_from_coords(coords)"
   ]
  },
  {
   "cell_type": "code",
   "execution_count": 17,
   "id": "99ca251c",
   "metadata": {},
   "outputs": [
    {
     "ename": "NameError",
     "evalue": "name 'coords' is not defined",
     "output_type": "error",
     "traceback": [
      "\u001b[0;31m---------------------------------------------------------------------------\u001b[0m",
      "\u001b[0;31mNameError\u001b[0m                                 Traceback (most recent call last)",
      "Cell \u001b[0;32mIn [17], line 2\u001b[0m\n\u001b[1;32m      1\u001b[0m \u001b[38;5;66;03m# Calcular las regiones de Voronoi\u001b[39;00m\n\u001b[0;32m----> 2\u001b[0m poly_shapes, pts, poly_to_pt_assignments \u001b[38;5;241m=\u001b[39m voronoi_regions_from_coords(coords, cat_shape)\n",
      "\u001b[0;31mNameError\u001b[0m: name 'coords' is not defined"
     ]
    }
   ],
   "source": [
    "# Calcular las regiones de Voronoi\n",
    "poly_shapes, pts, poly_to_pt_assignments = voronoi_regions_from_coords(coords, cat_shape)"
   ]
  },
  {
   "cell_type": "code",
   "execution_count": 18,
   "id": "052d5bb9",
   "metadata": {},
   "outputs": [
    {
     "ename": "NameError",
     "evalue": "name 'coords' is not defined",
     "output_type": "error",
     "traceback": [
      "\u001b[0;31m---------------------------------------------------------------------------\u001b[0m",
      "\u001b[0;31mNameError\u001b[0m                                 Traceback (most recent call last)",
      "Cell \u001b[0;32mIn [18], line 1\u001b[0m\n\u001b[0;32m----> 1\u001b[0m region_polys, region_pts \u001b[38;5;241m=\u001b[39m voronoi_regions_from_coords(coords, cat_shape)\n",
      "\u001b[0;31mNameError\u001b[0m: name 'coords' is not defined"
     ]
    }
   ],
   "source": [
    "region_polys, region_pts = voronoi_regions_from_coords(coords, cat_shape)\n"
   ]
  },
  {
   "cell_type": "code",
   "execution_count": 19,
   "id": "302b99c0",
   "metadata": {},
   "outputs": [
    {
     "ename": "NameError",
     "evalue": "name 'cat_shape' is not defined",
     "output_type": "error",
     "traceback": [
      "\u001b[0;31m---------------------------------------------------------------------------\u001b[0m",
      "\u001b[0;31mNameError\u001b[0m                                 Traceback (most recent call last)",
      "Cell \u001b[0;32mIn [19], line 2\u001b[0m\n\u001b[1;32m      1\u001b[0m fig, ax \u001b[38;5;241m=\u001b[39m subplot_for_map(figsize\u001b[38;5;241m=\u001b[39m(\u001b[38;5;241m12\u001b[39m, \u001b[38;5;241m10\u001b[39m))\n\u001b[0;32m----> 2\u001b[0m voronogo \u001b[38;5;241m=\u001b[39m plot_voronoi_polys_with_points_in_area(ax, cat_shape, region_polys, coords, region_pts)\n",
      "\u001b[0;31mNameError\u001b[0m: name 'cat_shape' is not defined"
     ]
    },
    {
     "data": {
      "image/png": "[encoded data removed]",
      "text/plain": [
       "<Figure size 1200x1000 with 1 Axes>"
      ]
     },
     "metadata": {},
     "output_type": "display_data"
    }
   ],
   "source": [
    "fig, ax = subplot_for_map(figsize=(12, 10))\n",
    "voronogo = plot_voronoi_polys_with_points_in_area(ax, cat_shape, region_polys, coords, region_pts)\n"
   ]
  }
 ],
 "metadata": {
  "kernelspec": {
   "display_name": "Python 3 (ipykernel)",
   "language": "python",
   "name": "python3"
  },
  "language_info": {
   "codemirror_mode": {
    "name": "ipython",
    "version": 3
   },
   "file_extension": ".py",
   "mimetype": "text/x-python",
   "name": "python",
   "nbconvert_exporter": "python",
   "pygments_lexer": "ipython3",
   "version": "3.10.7"
  }
 },
 "nbformat": 4,
 "nbformat_minor": 5
}
